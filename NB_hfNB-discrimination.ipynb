{
 "cells": [
  {
   "cell_type": "code",
   "execution_count": null,
   "id": "18219254",
   "metadata": {},
   "outputs": [],
   "source": [
    "#This code is complementary to Axion_PTall_EB-(hf)NB-detection.ipynb\n",
    "#It helps to decide the values of hfNB detction (hfNB_max_duration and hfNB_max_time_interval)"
   ]
  },
  {
   "cell_type": "code",
   "execution_count": null,
   "id": "bf4ec26e",
   "metadata": {},
   "outputs": [],
   "source": [
    "#Import libraries\n",
    "library(reshape2)\n",
    "library(stringr)\n",
    "library(tidyverse)\n",
    "library(dplyr)\n",
    "library(data.table)\n",
    "library(ggbiplot)"
   ]
  },
  {
   "cell_type": "code",
   "execution_count": null,
   "id": "c675aefa",
   "metadata": {},
   "outputs": [],
   "source": [
    "#Insert working directory where plots for NB and hfNB discrimination can be saved.\n",
    "setwd(\"insert path\") \n",
    "\n",
    "#Path to main folder containing subfolders with analysis results from Axion_PTall_EB-(hf)NB-detection_Github-version.ipynb\n",
    "parent.folder<-\"insert_parent_folder\"\n",
    "#Search for all csv's that are called 'nb_times_s', sigma, '.csv' \n",
    "#Change the sigma to the selected sigma from Axion_PTall_EB-(hf)NB-detection_Github-version.ipynb\n",
    "all_summary_files <- list.files(parent.folder, full.names = T, recursive = T, pattern = \"nb_times_s120.csv\")\n",
    "\n",
    "all_files_dir<-dirname(all_summary_files)\n",
    "#Check that only the NB times of analysis without hfNBdetection are selected\n",
    "all_summary_files_nohf_axion<-str_subset(all_summary_files, \"hfNBdetectionOFF\")\n",
    "length(all_summary_files_nohf_axion)\n",
    "all_summary_files_nohf_axion\n",
    "length(all_summary_files)"
   ]
  },
  {
   "cell_type": "code",
   "execution_count": null,
   "id": "ff65b19c",
   "metadata": {},
   "outputs": [],
   "source": [
    "#Remove any hfNB times from the list\n",
    "all_summary_files <-all_summary_files[all_summary_files %in% all_summary_files_nohf_axion]\n",
    "all_summary_files_remove<-str_subset(all_summary_files, \"/hf_\")\n",
    "all_summary_files <-all_summary_files[!all_summary_files %in% all_summary_files_remove]\n",
    "\n",
    "all_summary_files <- lapply(all_summary_files,read.csv, fileEncoding=\"UTF-8-BOM\")\n",
    "all_summary_files<-do.call(rbind, all_summary_files)\n",
    "all_summary_files<-all_summary_files[-1]\n",
    "\n",
    "#Construct a cell line overview containing at least the following columns:\n",
    "#'Syndrome', 'Gene', 'Cell_line_name', 'Identity', 'Own_control', 'isogenic', 'Pool'\n",
    "\n",
    "\n",
    "cell_line_overview<-read.csv(\"insert_path/Cell_line_overview.csv\", fileEncoding=\"UTF-8-BOM\")\n",
    "full_results<-dplyr::left_join(all_summary_files, cell_line_overview, by=c(\"Base_Phenotype\" = \"Cell_line_name\"))\n",
    "#Check the dataframe\n",
    "head(all_summary_files)"
   ]
  },
  {
   "cell_type": "code",
   "execution_count": null,
   "id": "bdbab81f",
   "metadata": {},
   "outputs": [],
   "source": [
    "#Remove any rows in which the 'Phenotype' is 'Exclude'\n",
    "exclude_cell_lines<-rownames(full_results[full_results$Phenotype==\"Exclude\",])\n",
    "full_results<-full_results[!rownames(full_results) %in% exclude_cell_lines,]"
   ]
  },
  {
   "cell_type": "code",
   "execution_count": null,
   "id": "78459769",
   "metadata": {},
   "outputs": [],
   "source": [
    "#Create unique IDs for each well for each plate.\n",
    "n_ID<-c(1:dim(full_results)[1])\n",
    "full_results$Unique_ID<-paste0(full_results$PT_all_path,\"_\",full_results$Well_Label,\"_\",n_ID)\n",
    "rownames(full_results)<-full_results$Unique_ID"
   ]
  },
  {
   "cell_type": "code",
   "execution_count": null,
   "id": "43d110d0",
   "metadata": {},
   "outputs": [],
   "source": [
    "#Compute the minimum time intervals of NBs by taking the minimum of back and forward time intervals per NB\n",
    "NB_time_interval_back<-full_results$NB_time_interval_back\n",
    "NB_time_interval_forward<-full_results$NB_time_interval_forward\n",
    "full_results$short_NB_time_interval<-pmin(NB_time_interval_back, NB_time_interval_forward,na.rm = TRUE)#na.rm, if there is na, pick the other value\n",
    "full_results<-full_results %>% drop_na(c(\"mean_firing_rate_in_nb\",\"duration\",\"short_NB_time_interval\"))#remove NAs\n",
    "\n",
    "#Write these results to a csv\n",
    "write.csv(full_results,\"All_NB_times_s120_prop40_NB9hz25_final.csv\")\n",
    "head(full_results)\n",
    "any(is.na(full_results$short_NB_time_interval))"
   ]
  },
  {
   "cell_type": "code",
   "execution_count": null,
   "id": "0091eff7",
   "metadata": {},
   "outputs": [],
   "source": [
    "#Now plot all NB time intervals in a histogram. This will help to decide what the valuse of hfNB_max_time_interval should be.\n",
    "p<-ggplot(full_results, aes(x=short_NB_time_interval)) +   \n",
    "  \n",
    "   geom_density(color=\"white\", fill=\"red\") + theme_minimal() +scale_x_continuous(limits = c(-0, 3),\n",
    "                                                                                 breaks = seq(0, 3, by = 0.1))+\n",
    "    theme(axis.text.x = element_text(angle = 45, hjust = 1))\n",
    "\n",
    "tiff(paste0(\"short_NB_time_interval.tiff\"), res =400, units = \"in\", width = 6, height = 2)\n",
    "p\n",
    "dev.off()\n",
    "p"
   ]
  },
  {
   "cell_type": "code",
   "execution_count": null,
   "id": "5526c698",
   "metadata": {},
   "outputs": [],
   "source": [
    "#Plot all NB durations in a histogram. This will help to decide what the valuse of hfNB_max_duration should be.\n",
    "p<-ggplot(full_results, aes(x=duration)) +   \n",
    "  \n",
    "   geom_density(color=\"white\", fill=\"red\") + theme_minimal() +scale_x_continuous(limits = c(-0, 1)) \n",
    "tiff(paste0(\"duration.tiff\"), res =400, units = \"in\", width = 6, height = 2)\n",
    "p\n",
    "dev.off()\n",
    "p"
   ]
  },
  {
   "cell_type": "code",
   "execution_count": null,
   "id": "941e2e53",
   "metadata": {},
   "outputs": [],
   "source": []
  }
 ],
 "metadata": {
  "kernelspec": {
   "display_name": "R",
   "language": "R",
   "name": "ir"
  },
  "language_info": {
   "codemirror_mode": "r",
   "file_extension": ".r",
   "mimetype": "text/x-r-source",
   "name": "R",
   "pygments_lexer": "r",
   "version": "4.1.3"
  }
 },
 "nbformat": 4,
 "nbformat_minor": 5
}
